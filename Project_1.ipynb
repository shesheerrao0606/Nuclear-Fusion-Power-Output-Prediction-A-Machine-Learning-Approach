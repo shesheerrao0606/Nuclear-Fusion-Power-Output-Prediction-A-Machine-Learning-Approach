{
 "cells": [
  {
   "cell_type": "markdown",
   "id": "e01660bb-cc83-4b17-9dc6-82e4468d2dd4",
   "metadata": {},
   "source": [
    "## Task 1: Dataset and Tasks"
   ]
  },
  {
   "cell_type": "markdown",
   "id": "c78171d5-8d29-4e6d-84cf-7c19127ce49a",
   "metadata": {},
   "source": [
    "### 1.1:\n",
    "\n",
    "This dataset contains 100,000 rows of experimental data from nuclear fusion trials. Each row represents a single experiment, and the dataset includes 19 columns that capture a variety of parameters relevant to understanding the conditions and results of these experiments. The primary goal of this dataset is to help researchers and analysts predict the success of nuclear fusion reactions, which could lead to sustainable, carbon-free energy.\n",
    "\n",
    "Since this is a simulated dataset and not explicitly sourced from a particular real-world fusion experiment (e.g., ITER or NIF), it is representative of typical parameters involved in fusion research. Such datasets are often used in machine learning projects and academic studies to model the complex dynamics of nuclear fusion.\n",
    "\n",
    "#### The Features used in this Dataset:\n",
    "\n",
    "1. **Magnetic Field Fluctuations:** This measures the variations in the magnetic field. Large fluctuations can indicate instability in the plasma, reducing efficiency.\n",
    "2. **Leakage:** Refers to energy or particle loss from the containment field. Lower leakage is ideal for successful fusion reactions.\n",
    "3. **Instabilities:** General measure of the instability in the experiment, which can impact plasma containment.\n",
    "4. **Plasma Instabilities:** Specific types of instabilities related to the plasma’s behavior, affect the overall fusion efficiency.\n",
    "5. **Magnetic Field Strength:** The strength of the magnetic field applied to the plasma for confinement. Higher strength typically improves confinement.\n",
    "6. **Magnetic Field Configuration:** Describes the configuration of the magnetic field, e.g., tokamak, stellarator, or reversed field pinch. Each configuration has its own strengths and challenges in plasma confinement.\n",
    "7. **Injection Energy:** Energy is injected into the system to initiate the fusion reaction. Higher injection energy can lead to more successful reactions but increases energy costs.\n",
    "8. **Beam Symmetry:** The symmetry of the particle beams. More symmetric beams can result in better energy concentration and more efficient reactions.\n",
    "9. **Target Density:** Density of the material being targeted for fusion. Higher density typically means a higher chance of successful fusion reactions.\n",
    "10. **Target Composition:** The type of fuel being used (e.g., deuterium, tritium, or a mix of both). Different fuels have varying efficiencies and safety concerns.\n",
    "11. **Fuel Density** The density of the fuel used in the reaction. Higher densities lead to higher reaction rates but also more pressure on the containment field.\n",
    "12. **Temperature:** The temperature of the plasma. High temperatures are required to overcome the Coulomb barrier and initiate fusion.\n",
    "13. **Confinement Time:** The amount of time the plasma is confined. Longer confinement times generally increase the probability of successful reactions.\n",
    "14. **Fuel Purity:** Purity of the fuel being used. Higher-purity fuels result in more efficient reactions as there are fewer contaminants.\n",
    "15. **Energy Input:** Total energy input into the system. This is a key factor in determining whether the output exceeds the input.\n",
    "16. **Pressure:** The pressure inside the fusion chamber, which is directly related to the likelihood of sustaining a fusion reaction.\n",
    "\n",
    "#### The Target Variable Used in this Dataset:\n",
    "1. **Power Output:** The total amount of power generated from the fusion reaction. This is often the target variable in predictive models.\n"
   ]
  },
  {
   "cell_type": "markdown",
   "id": "5be1282d-7418-4f02-b953-f6a301b7d050",
   "metadata": {},
   "source": [
    "#### Challenges and Limitations:\n",
    "\n",
    "1. **Complexity of Feature Interactions:** Many of the features in the dataset are interdependent. For example, temperature, pressure, and confinement time all influence each other. This makes it difficult to isolate the effect of a single variable on power output.\n",
    "\n",
    "2. **Data Quality:** Since this is a simulated dataset, it might not capture the full complexity of real-world fusion experiments. Real-world data could include noise, missing values, or sensor inaccuracies that are not present in this clean dataset.\n"
   ]
  },
  {
   "cell_type": "markdown",
   "id": "49fbde47-ba11-4a91-9c15-b6f3cdd08536",
   "metadata": {},
   "source": [
    "### 1.2:\n",
    "\n",
    "#### Objective:\n",
    "The goal of this task is to build a regression model that predicts the Power Output of a nuclear fusion experiment based on various input parameters. By doing so, we aim to optimize the power generation process and gain insights into which factors have the most significant impact on power output. Understanding the key contributors to power generation is crucial in making nuclear fusion a viable source of sustainable, carbon-free energy.\n",
    "\n",
    "#### Target Variable:\n",
    "The target variable for this regression task is:\n",
    "\n",
    "**Power Output:** This is a continuous variable representing the amount of energy generated in the fusion experiment. The higher the power output, the more successful the experiment is in generating energy.\n",
    "\n",
    "Why Power Output?\n",
    "Power output is one of the most crucial metrics in nuclear fusion experiments. The goal of nuclear fusion research is to generate more energy than is input into the system. Predicting and optimizing power output is key to improving the efficiency of fusion reactions and moving closer to the goal of sustainable energy. \n",
    "\n",
    "Predicting power output allows researchers to fine-tune experimental parameters (such as magnetic field strength, fuel density, or temperature) to maximize energy generation. This optimization can directly lead to more successful fusion trials, with the potential to scale these methods to large-scale reactors in the future.\n",
    "\n",
    "Building a predictive model enables feature importance analysis, which can uncover key factors that contribute the most to power generation. This can help guide experimental design, resource allocation, and technology development.\n",
    "\n",
    "#### Potential Challenges:\n",
    "\n",
    "1. Multicollinearity: Some features may be highly correlated with one another (e.g., magnetic field strength and plasma instabilities), which could lead to multicollinearity issues. This could affect the interpretability of the model.\n",
    "2. Feature Scaling: Features such as Temperature, Pressure, and Energy Input may have very different ranges, so proper scaling (e.g., normalization or standardization) is required for certain machine learning algorithms to perform effectively.\n",
    "3. Outliers and Noise: There may be outliers in the data (e.g., experiments that drastically failed or succeeded), which could skew the model’s predictions. Careful treatment of outliers and noise is essential to ensure a robust model.\n",
    "4. Data Imbalance: Some experiments may have very low power output, while only a few achieve very high power output. This imbalance in the data could make it harder to predict high power output values accurately.\n",
    "\n",
    "#### Relevant Features Include:\n",
    "\n",
    "1. Magnetic Field Fluctuations\n",
    "2. Leakage\n",
    "3. Instabilities\n",
    "4. Plasma Instabilities\n",
    "5. Magnetic Field Strength\n",
    "6. Magnetic Field Configuration\n",
    "7. Injection Energy\n",
    "8. Beam Symmetry\n",
    "9. Target Density\n",
    "10. Target Composition\n",
    "11. Fuel Density\n",
    "12. Temperature\n",
    "13. Confinement Time\n",
    "14. Fuel Purity\n",
    "15. Energy Input\n",
    "16. Pressure"
   ]
  },
  {
   "cell_type": "markdown",
   "id": "5723a918-7e43-49c3-a399-6b72fa025354",
   "metadata": {},
   "source": [
    "## Task 2: Preprocessing"
   ]
  },
  {
   "cell_type": "code",
   "execution_count": 62,
   "id": "9e8dd35f-f86a-4fc0-8bb4-3da89b18992e",
   "metadata": {},
   "outputs": [
    {
     "name": "stdout",
     "output_type": "stream",
     "text": [
      "Requirement already satisfied: scikit-learn in c:\\users\\shalin\\appdata\\local\\programs\\python\\python312\\lib\\site-packages (1.5.2)\n",
      "Requirement already satisfied: numpy>=1.19.5 in c:\\users\\shalin\\appdata\\local\\programs\\python\\python312\\lib\\site-packages (from scikit-learn) (2.1.1)\n",
      "Requirement already satisfied: scipy>=1.6.0 in c:\\users\\shalin\\appdata\\local\\programs\\python\\python312\\lib\\site-packages (from scikit-learn) (1.14.1)\n",
      "Requirement already satisfied: joblib>=1.2.0 in c:\\users\\shalin\\appdata\\local\\programs\\python\\python312\\lib\\site-packages (from scikit-learn) (1.4.2)\n",
      "Requirement already satisfied: threadpoolctl>=3.1.0 in c:\\users\\shalin\\appdata\\local\\programs\\python\\python312\\lib\\site-packages (from scikit-learn) (3.5.0)\n"
     ]
    }
   ],
   "source": [
    "!pip install scikit-learn"
   ]
  },
  {
   "cell_type": "code",
   "execution_count": 63,
   "id": "243469a9-cabf-486d-864e-a2275708725a",
   "metadata": {},
   "outputs": [
    {
     "name": "stdout",
     "output_type": "stream",
     "text": [
      "Requirement already satisfied: matplotlib in c:\\users\\shalin\\appdata\\local\\programs\\python\\python312\\lib\\site-packages (3.9.2)\n",
      "Requirement already satisfied: contourpy>=1.0.1 in c:\\users\\shalin\\appdata\\local\\programs\\python\\python312\\lib\\site-packages (from matplotlib) (1.3.0)\n",
      "Requirement already satisfied: cycler>=0.10 in c:\\users\\shalin\\appdata\\local\\programs\\python\\python312\\lib\\site-packages (from matplotlib) (0.12.1)\n",
      "Requirement already satisfied: fonttools>=4.22.0 in c:\\users\\shalin\\appdata\\local\\programs\\python\\python312\\lib\\site-packages (from matplotlib) (4.54.1)\n",
      "Requirement already satisfied: kiwisolver>=1.3.1 in c:\\users\\shalin\\appdata\\local\\programs\\python\\python312\\lib\\site-packages (from matplotlib) (1.4.7)\n",
      "Requirement already satisfied: numpy>=1.23 in c:\\users\\shalin\\appdata\\local\\programs\\python\\python312\\lib\\site-packages (from matplotlib) (2.1.1)\n",
      "Requirement already satisfied: packaging>=20.0 in c:\\users\\shalin\\appdata\\local\\programs\\python\\python312\\lib\\site-packages (from matplotlib) (24.1)\n",
      "Requirement already satisfied: pillow>=8 in c:\\users\\shalin\\appdata\\local\\programs\\python\\python312\\lib\\site-packages (from matplotlib) (10.4.0)\n",
      "Requirement already satisfied: pyparsing>=2.3.1 in c:\\users\\shalin\\appdata\\local\\programs\\python\\python312\\lib\\site-packages (from matplotlib) (3.1.4)\n",
      "Requirement already satisfied: python-dateutil>=2.7 in c:\\users\\shalin\\appdata\\local\\programs\\python\\python312\\lib\\site-packages (from matplotlib) (2.9.0.post0)\n",
      "Requirement already satisfied: six>=1.5 in c:\\users\\shalin\\appdata\\local\\programs\\python\\python312\\lib\\site-packages (from python-dateutil>=2.7->matplotlib) (1.16.0)\n"
     ]
    }
   ],
   "source": [
    "!pip install matplotlib"
   ]
  },
  {
   "cell_type": "code",
   "execution_count": 64,
   "id": "7bee8fba-d179-486c-a72d-f6646e98d44e",
   "metadata": {},
   "outputs": [
    {
     "name": "stdout",
     "output_type": "stream",
     "text": [
      "Requirement already satisfied: scipy in c:\\users\\shalin\\appdata\\local\\programs\\python\\python312\\lib\\site-packages (1.14.1)Note: you may need to restart the kernel to use updated packages.\n",
      "\n",
      "Requirement already satisfied: numpy<2.3,>=1.23.5 in c:\\users\\shalin\\appdata\\local\\programs\\python\\python312\\lib\\site-packages (from scipy) (2.1.1)\n"
     ]
    }
   ],
   "source": [
    "pip install scipy"
   ]
  },
  {
   "cell_type": "code",
   "execution_count": 76,
   "id": "53226ee8-f14b-48f8-beb3-f841f618ca58",
   "metadata": {},
   "outputs": [],
   "source": [
    "import pandas as pd\n",
    "import numpy as np\n",
    "from sklearn.model_selection import train_test_split, cross_val_score\n",
    "from sklearn.preprocessing import StandardScaler, RobustScaler, PowerTransformer\n",
    "from sklearn.impute import SimpleImputer\n",
    "from sklearn.decomposition import PCA\n",
    "from sklearn.feature_selection import SelectKBest, f_regression\n",
    "from sklearn.pipeline import Pipeline\n",
    "from sklearn.linear_model import LinearRegression\n",
    "from sklearn.ensemble import RandomForestRegressor\n",
    "from sklearn.metrics import r2_score\n",
    "import matplotlib.pyplot as plt\n",
    "from scipy import stats"
   ]
  },
  {
   "cell_type": "code",
   "execution_count": 77,
   "id": "934a6224-5f42-4837-8ea3-6c99dad7c79c",
   "metadata": {},
   "outputs": [
    {
     "name": "stdout",
     "output_type": "stream",
     "text": [
      "   Magnetic Field Fluctuations   Leakage  Instabilities  Plasma Instabilities  \\\n",
      "0                     0.037454  0.058078       0.028259              0.015705   \n",
      "1                     0.095071  0.052697       0.045868              0.009551   \n",
      "2                     0.073199  0.035104       0.009922              0.013794   \n",
      "3                     0.059866  0.049321       0.044684              0.047349   \n",
      "4                     0.015602  0.036510       0.020308              0.088453   \n",
      "\n",
      "   Magnetic Field Strength Magnetic Field Configuration  Injection Energy  \\\n",
      "0                 9.000578                      tokamak          5.713125   \n",
      "1                 3.841421         reversed field pinch          9.819548   \n",
      "2                 1.467187                  stellarator          7.016781   \n",
      "3                 9.277696                      tokamak          4.018930   \n",
      "4                 4.926347         reversed field pinch          6.145836   \n",
      "\n",
      "   Beam Symmetry  Target Density Target Composition  Fuel Density  \\\n",
      "0       0.800007    2.030000e+19          deuterium  7.610000e+19   \n",
      "1       0.082642    3.050000e+19  deuterium-tritium  8.740000e+19   \n",
      "2       0.176319    5.290000e+19            tritium  8.240000e+19   \n",
      "3       0.833709    5.960000e+19  deuterium-tritium  9.080000e+19   \n",
      "4       0.808161    7.890000e+19          deuterium  8.190000e+19   \n",
      "\n",
      "   Temperature  Confinement Time  Fuel Purity  Energy Input  Power Output  \\\n",
      "0  405038794.7          0.842126    99.971295    250.726719     55.321517   \n",
      "1  255196341.3          0.504637    99.951049    345.614166     22.767959   \n",
      "2  262765118.7          0.357445    99.958831    290.050980     49.872944   \n",
      "3  310470932.1          0.992195    99.997186    436.491093      2.656182   \n",
      "4  325852878.8          0.648677    99.927054    198.773196     48.096005   \n",
      "\n",
      "      Pressure  \n",
      "0  6107791.543  \n",
      "1  4921946.092  \n",
      "2  9798230.072  \n",
      "3  5611293.043  \n",
      "4  8541063.957  \n"
     ]
    }
   ],
   "source": [
    "data = pd.read_csv('fusion_experiment.csv')\n",
    "df=data\n",
    "print(df.head())"
   ]
  },
  {
   "cell_type": "code",
   "execution_count": 78,
   "id": "d0927476-2813-4286-a424-0ba5d9ec96a5",
   "metadata": {},
   "outputs": [
    {
     "name": "stdout",
     "output_type": "stream",
     "text": [
      "Categorical Columns to Drop: Index(['Magnetic Field Configuration', 'Target Composition'], dtype='object')\n"
     ]
    }
   ],
   "source": [
    "#Dropping any non-numeric columns\n",
    "categorical_cols = data.select_dtypes(include=['object']).columns\n",
    "\n",
    "print(\"Categorical Columns to Drop:\", categorical_cols)"
   ]
  },
  {
   "cell_type": "code",
   "execution_count": 79,
   "id": "10f39ef1-7f2d-4bf2-a00a-5b380ae3cd66",
   "metadata": {},
   "outputs": [
    {
     "name": "stdout",
     "output_type": "stream",
     "text": [
      "Data after Dropping Categorical Columns:    Magnetic Field Fluctuations   Leakage  Instabilities  Plasma Instabilities  \\\n",
      "0                     0.037454  0.058078       0.028259              0.015705   \n",
      "1                     0.095071  0.052697       0.045868              0.009551   \n",
      "2                     0.073199  0.035104       0.009922              0.013794   \n",
      "3                     0.059866  0.049321       0.044684              0.047349   \n",
      "4                     0.015602  0.036510       0.020308              0.088453   \n",
      "\n",
      "   Magnetic Field Strength  Injection Energy  Beam Symmetry  Target Density  \\\n",
      "0                 9.000578          5.713125       0.800007    2.030000e+19   \n",
      "1                 3.841421          9.819548       0.082642    3.050000e+19   \n",
      "2                 1.467187          7.016781       0.176319    5.290000e+19   \n",
      "3                 9.277696          4.018930       0.833709    5.960000e+19   \n",
      "4                 4.926347          6.145836       0.808161    7.890000e+19   \n",
      "\n",
      "   Fuel Density  Temperature  Confinement Time  Fuel Purity  Energy Input  \\\n",
      "0  7.610000e+19  405038794.7          0.842126    99.971295    250.726719   \n",
      "1  8.740000e+19  255196341.3          0.504637    99.951049    345.614166   \n",
      "2  8.240000e+19  262765118.7          0.357445    99.958831    290.050980   \n",
      "3  9.080000e+19  310470932.1          0.992195    99.997186    436.491093   \n",
      "4  8.190000e+19  325852878.8          0.648677    99.927054    198.773196   \n",
      "\n",
      "   Power Output     Pressure  \n",
      "0     55.321517  6107791.543  \n",
      "1     22.767959  4921946.092  \n",
      "2     49.872944  9798230.072  \n",
      "3      2.656182  5611293.043  \n",
      "4     48.096005  8541063.957  \n"
     ]
    }
   ],
   "source": [
    "df = data.drop(columns=categorical_cols)\n",
    "\n",
    "print(\"Data after Dropping Categorical Columns:\", df.head())"
   ]
  },
  {
   "cell_type": "code",
   "execution_count": 80,
   "id": "08e2c049-00e7-4bb3-8719-e2f248319fae",
   "metadata": {},
   "outputs": [],
   "source": [
    "X= df.drop('Power Output', axis=1)\n",
    "y = df['Power Output']"
   ]
  },
  {
   "cell_type": "code",
   "execution_count": 81,
   "id": "5636a161-c048-4dd5-ae9e-47e6a2cbdf95",
   "metadata": {},
   "outputs": [
    {
     "data": {
      "text/html": [
       "<div>\n",
       "<style scoped>\n",
       "    .dataframe tbody tr th:only-of-type {\n",
       "        vertical-align: middle;\n",
       "    }\n",
       "\n",
       "    .dataframe tbody tr th {\n",
       "        vertical-align: top;\n",
       "    }\n",
       "\n",
       "    .dataframe thead th {\n",
       "        text-align: right;\n",
       "    }\n",
       "</style>\n",
       "<table border=\"1\" class=\"dataframe\">\n",
       "  <thead>\n",
       "    <tr style=\"text-align: right;\">\n",
       "      <th></th>\n",
       "      <th>Magnetic Field Fluctuations</th>\n",
       "      <th>Leakage</th>\n",
       "      <th>Instabilities</th>\n",
       "      <th>Plasma Instabilities</th>\n",
       "      <th>Magnetic Field Strength</th>\n",
       "      <th>Injection Energy</th>\n",
       "      <th>Beam Symmetry</th>\n",
       "      <th>Target Density</th>\n",
       "      <th>Fuel Density</th>\n",
       "      <th>Temperature</th>\n",
       "      <th>Confinement Time</th>\n",
       "      <th>Fuel Purity</th>\n",
       "      <th>Energy Input</th>\n",
       "      <th>Power Output</th>\n",
       "      <th>Pressure</th>\n",
       "    </tr>\n",
       "  </thead>\n",
       "  <tbody>\n",
       "    <tr>\n",
       "      <th>0</th>\n",
       "      <td>0.037454</td>\n",
       "      <td>0.058078</td>\n",
       "      <td>0.028259</td>\n",
       "      <td>0.015705</td>\n",
       "      <td>9.000578</td>\n",
       "      <td>5.713125</td>\n",
       "      <td>0.800007</td>\n",
       "      <td>2.030000e+19</td>\n",
       "      <td>7.610000e+19</td>\n",
       "      <td>405038794.7</td>\n",
       "      <td>0.842126</td>\n",
       "      <td>99.971295</td>\n",
       "      <td>250.726719</td>\n",
       "      <td>55.321517</td>\n",
       "      <td>6107791.543</td>\n",
       "    </tr>\n",
       "    <tr>\n",
       "      <th>1</th>\n",
       "      <td>0.095071</td>\n",
       "      <td>0.052697</td>\n",
       "      <td>0.045868</td>\n",
       "      <td>0.009551</td>\n",
       "      <td>3.841421</td>\n",
       "      <td>9.819548</td>\n",
       "      <td>0.082642</td>\n",
       "      <td>3.050000e+19</td>\n",
       "      <td>8.740000e+19</td>\n",
       "      <td>255196341.3</td>\n",
       "      <td>0.504637</td>\n",
       "      <td>99.951049</td>\n",
       "      <td>345.614166</td>\n",
       "      <td>22.767959</td>\n",
       "      <td>4921946.092</td>\n",
       "    </tr>\n",
       "    <tr>\n",
       "      <th>2</th>\n",
       "      <td>0.073199</td>\n",
       "      <td>0.035104</td>\n",
       "      <td>0.009922</td>\n",
       "      <td>0.013794</td>\n",
       "      <td>1.467187</td>\n",
       "      <td>7.016781</td>\n",
       "      <td>0.176319</td>\n",
       "      <td>5.290000e+19</td>\n",
       "      <td>8.240000e+19</td>\n",
       "      <td>262765118.7</td>\n",
       "      <td>0.357445</td>\n",
       "      <td>99.958831</td>\n",
       "      <td>290.050980</td>\n",
       "      <td>49.872944</td>\n",
       "      <td>9798230.072</td>\n",
       "    </tr>\n",
       "    <tr>\n",
       "      <th>3</th>\n",
       "      <td>0.059866</td>\n",
       "      <td>0.049321</td>\n",
       "      <td>0.044684</td>\n",
       "      <td>0.047349</td>\n",
       "      <td>9.277696</td>\n",
       "      <td>4.018930</td>\n",
       "      <td>0.833709</td>\n",
       "      <td>5.960000e+19</td>\n",
       "      <td>9.080000e+19</td>\n",
       "      <td>310470932.1</td>\n",
       "      <td>0.992195</td>\n",
       "      <td>99.997186</td>\n",
       "      <td>436.491093</td>\n",
       "      <td>2.656182</td>\n",
       "      <td>5611293.043</td>\n",
       "    </tr>\n",
       "    <tr>\n",
       "      <th>4</th>\n",
       "      <td>0.015602</td>\n",
       "      <td>0.036510</td>\n",
       "      <td>0.020308</td>\n",
       "      <td>0.088453</td>\n",
       "      <td>4.926347</td>\n",
       "      <td>6.145836</td>\n",
       "      <td>0.808161</td>\n",
       "      <td>7.890000e+19</td>\n",
       "      <td>8.190000e+19</td>\n",
       "      <td>325852878.8</td>\n",
       "      <td>0.648677</td>\n",
       "      <td>99.927054</td>\n",
       "      <td>198.773196</td>\n",
       "      <td>48.096005</td>\n",
       "      <td>8541063.957</td>\n",
       "    </tr>\n",
       "  </tbody>\n",
       "</table>\n",
       "</div>"
      ],
      "text/plain": [
       "   Magnetic Field Fluctuations   Leakage  Instabilities  Plasma Instabilities  \\\n",
       "0                     0.037454  0.058078       0.028259              0.015705   \n",
       "1                     0.095071  0.052697       0.045868              0.009551   \n",
       "2                     0.073199  0.035104       0.009922              0.013794   \n",
       "3                     0.059866  0.049321       0.044684              0.047349   \n",
       "4                     0.015602  0.036510       0.020308              0.088453   \n",
       "\n",
       "   Magnetic Field Strength  Injection Energy  Beam Symmetry  Target Density  \\\n",
       "0                 9.000578          5.713125       0.800007    2.030000e+19   \n",
       "1                 3.841421          9.819548       0.082642    3.050000e+19   \n",
       "2                 1.467187          7.016781       0.176319    5.290000e+19   \n",
       "3                 9.277696          4.018930       0.833709    5.960000e+19   \n",
       "4                 4.926347          6.145836       0.808161    7.890000e+19   \n",
       "\n",
       "   Fuel Density  Temperature  Confinement Time  Fuel Purity  Energy Input  \\\n",
       "0  7.610000e+19  405038794.7          0.842126    99.971295    250.726719   \n",
       "1  8.740000e+19  255196341.3          0.504637    99.951049    345.614166   \n",
       "2  8.240000e+19  262765118.7          0.357445    99.958831    290.050980   \n",
       "3  9.080000e+19  310470932.1          0.992195    99.997186    436.491093   \n",
       "4  8.190000e+19  325852878.8          0.648677    99.927054    198.773196   \n",
       "\n",
       "   Power Output     Pressure  \n",
       "0     55.321517  6107791.543  \n",
       "1     22.767959  4921946.092  \n",
       "2     49.872944  9798230.072  \n",
       "3      2.656182  5611293.043  \n",
       "4     48.096005  8541063.957  "
      ]
     },
     "execution_count": 81,
     "metadata": {},
     "output_type": "execute_result"
    }
   ],
   "source": [
    "df.head()"
   ]
  },
  {
   "cell_type": "markdown",
   "id": "5da194d0-062a-45d6-ad55-362b31131738",
   "metadata": {},
   "source": [
    "#### 2.1: Splitting the data in the Training and Testing set and handling missing values"
   ]
  },
  {
   "cell_type": "code",
   "execution_count": 82,
   "id": "c1283cbb-714f-4d52-b3ea-617bca2c9380",
   "metadata": {},
   "outputs": [],
   "source": [
    "X_train, X_test, y_train, y_test = train_test_split(X, y, test_size=0.2, random_state=42)"
   ]
  },
  {
   "cell_type": "code",
   "execution_count": 83,
   "id": "3124aab5-7ce4-4807-8b3a-b9d96b820d41",
   "metadata": {},
   "outputs": [
    {
     "name": "stdout",
     "output_type": "stream",
     "text": [
      "<class 'pandas.core.frame.DataFrame'>\n",
      "RangeIndex: 100000 entries, 0 to 99999\n",
      "Data columns (total 15 columns):\n",
      " #   Column                       Non-Null Count   Dtype  \n",
      "---  ------                       --------------   -----  \n",
      " 0   Magnetic Field Fluctuations  100000 non-null  float64\n",
      " 1   Leakage                      100000 non-null  float64\n",
      " 2   Instabilities                100000 non-null  float64\n",
      " 3   Plasma Instabilities         100000 non-null  float64\n",
      " 4   Magnetic Field Strength      100000 non-null  float64\n",
      " 5   Injection Energy             100000 non-null  float64\n",
      " 6   Beam Symmetry                100000 non-null  float64\n",
      " 7   Target Density               100000 non-null  float64\n",
      " 8   Fuel Density                 100000 non-null  float64\n",
      " 9   Temperature                  100000 non-null  float64\n",
      " 10  Confinement Time             100000 non-null  float64\n",
      " 11  Fuel Purity                  100000 non-null  float64\n",
      " 12  Energy Input                 100000 non-null  float64\n",
      " 13  Power Output                 100000 non-null  float64\n",
      " 14  Pressure                     100000 non-null  float64\n",
      "dtypes: float64(15)\n",
      "memory usage: 11.4 MB\n",
      "None\n"
     ]
    }
   ],
   "source": [
    "print(df.info())"
   ]
  },
  {
   "cell_type": "code",
   "execution_count": 84,
   "id": "a77f677b-7832-476a-8239-2d5486df5704",
   "metadata": {},
   "outputs": [
    {
     "name": "stdout",
     "output_type": "stream",
     "text": [
      "\n",
      "Missing values:\n",
      " Magnetic Field Fluctuations    0\n",
      "Leakage                        0\n",
      "Instabilities                  0\n",
      "Plasma Instabilities           0\n",
      "Magnetic Field Strength        0\n",
      "Injection Energy               0\n",
      "Beam Symmetry                  0\n",
      "Target Density                 0\n",
      "Fuel Density                   0\n",
      "Temperature                    0\n",
      "Confinement Time               0\n",
      "Fuel Purity                    0\n",
      "Energy Input                   0\n",
      "Power Output                   0\n",
      "Pressure                       0\n",
      "dtype: int64\n",
      "\n",
      "Data types:\n",
      " Magnetic Field Fluctuations    float64\n",
      "Leakage                        float64\n",
      "Instabilities                  float64\n",
      "Plasma Instabilities           float64\n",
      "Magnetic Field Strength        float64\n",
      "Injection Energy               float64\n",
      "Beam Symmetry                  float64\n",
      "Target Density                 float64\n",
      "Fuel Density                   float64\n",
      "Temperature                    float64\n",
      "Confinement Time               float64\n",
      "Fuel Purity                    float64\n",
      "Energy Input                   float64\n",
      "Power Output                   float64\n",
      "Pressure                       float64\n",
      "dtype: object\n"
     ]
    }
   ],
   "source": [
    "print(\"\\nMissing values:\\n\", df.isnull().sum())\n",
    "print(\"\\nData types:\\n\", df.dtypes)"
   ]
  },
  {
   "cell_type": "markdown",
   "id": "a642400e-8407-45f0-b1fb-2359bb249f94",
   "metadata": {},
   "source": [
    "There is no need to handle any missing data since we can see that there is no missing data in the dataset"
   ]
  },
  {
   "cell_type": "markdown",
   "id": "ae8b7b6c-da4a-431c-82ea-998c5c2255ba",
   "metadata": {},
   "source": [
    "We can go ahead and perform Outlier detection now"
   ]
  },
  {
   "cell_type": "markdown",
   "id": "2a515f7a-bf5a-4601-9a85-dcdecefe8a2a",
   "metadata": {},
   "source": [
    "#### 2.2 & 2.3 : Choosing and Performing preprocessing Steps that are relevant to our problem statement"
   ]
  },
  {
   "cell_type": "code",
   "execution_count": 85,
   "id": "303da5dc-b6ea-435a-959e-46ced16e455e",
   "metadata": {},
   "outputs": [],
   "source": [
    "from sklearn.ensemble import IsolationForest"
   ]
  },
  {
   "cell_type": "code",
   "execution_count": 86,
   "id": "cc4761cc-98ea-4446-a7b1-8e8c4a3e48dc",
   "metadata": {},
   "outputs": [
    {
     "name": "stderr",
     "output_type": "stream",
     "text": [
      "/opt/anaconda3/lib/python3.11/site-packages/sklearn/base.py:439: UserWarning: X does not have valid feature names, but IsolationForest was fitted with feature names\n",
      "  warnings.warn(\n"
     ]
    }
   ],
   "source": [
    "# Step 1: Detect Outliers using Isolation Forest\n",
    "iso_forest = IsolationForest(contamination=0.01, random_state=42)  # 1% contamination rate (adjust this as needed)\n",
    "outliers = iso_forest.fit_predict(X_train)"
   ]
  },
  {
   "cell_type": "code",
   "execution_count": 87,
   "id": "43ebd33c-4595-4630-b1b0-d4e314dc9d27",
   "metadata": {},
   "outputs": [],
   "source": [
    "#remove outliers from the training set\n",
    "\n",
    "X_train_clean = X_train[outliers == 1]\n",
    "y_train_clean = y_train[outliers == 1]"
   ]
  },
  {
   "cell_type": "code",
   "execution_count": 88,
   "id": "eea4513e-68c2-4e3f-813b-4fcbb366eea4",
   "metadata": {},
   "outputs": [
    {
     "name": "stdout",
     "output_type": "stream",
     "text": [
      "Shape of X_train after outlier removal: (79200, 14)\n",
      "Shape of y_train after outlier removal: (79200,)\n"
     ]
    }
   ],
   "source": [
    "print(\"Shape of X_train after outlier removal:\", X_train_clean.shape)\n",
    "print(\"Shape of y_train after outlier removal:\", y_train_clean.shape)"
   ]
  },
  {
   "cell_type": "code",
   "execution_count": 89,
   "id": "529f1d64-e4d4-4379-b611-bfb1fd5116ee",
   "metadata": {},
   "outputs": [],
   "source": [
    "#Removing Collinear Features\n",
    "\n",
    "corr_matrix = X_train_clean.corr().abs()\n",
    "upper_tri = corr_matrix.where(np.triu(np.ones(corr_matrix.shape), k=1).astype(bool))\n",
    "collinear_features = [column for column in upper_tri.columns if any(upper_tri[column] > 0.85)]\n",
    "X_train_clean = X_train_clean.drop(columns=collinear_features)\n",
    "X_test = X_test.drop(columns=collinear_features)"
   ]
  },
  {
   "cell_type": "code",
   "execution_count": 90,
   "id": "3e35b57e-d558-48dd-ac70-96a01fa3c8cb",
   "metadata": {},
   "outputs": [],
   "source": [
    "#Scaling the dataset\n",
    "scaler = StandardScaler()\n",
    "X_train_scaled = scaler.fit_transform(X_train_clean)\n",
    "X_test_scaled = scaler.transform(X_test)"
   ]
  },
  {
   "cell_type": "code",
   "execution_count": 91,
   "id": "74392bb4-2178-4140-bbde-6cdfb76b04de",
   "metadata": {},
   "outputs": [],
   "source": [
    "X_train_scaled = pd.DataFrame(X_train_scaled, columns=X_train_clean.columns)\n",
    "X_test_scaled = pd.DataFrame(X_test_scaled, columns=X_test.columns)"
   ]
  },
  {
   "cell_type": "markdown",
   "id": "bd865928-676b-48d6-b038-205cfeb4e048",
   "metadata": {},
   "source": [
    "from sklearn.feature_selection import RFE\n",
    "from sklearn.linear_model import LinearRegression"
   ]
  },
  {
   "cell_type": "code",
   "execution_count": 92,
   "id": "c1664f09-a2a4-4208-aff1-5c6034a95f42",
   "metadata": {},
   "outputs": [],
   "source": [
    "#Feature Elimination using RFE\n",
    "model = LinearRegression()\n",
    "\n",
    "# Initialize RFE with the desired number of features to select\n",
    "rfe = RFE(estimator=model, n_features_to_select=8)  # Adjust 'n_features_to_select' based on how many features you want\n",
    "\n",
    "# Fit RFE on the training data\n",
    "rfe.fit(X_train_scaled, y_train_clean)\n",
    "\n",
    "# Get the selected features\n",
    "selected_features = X_train_scaled.columns[rfe.support_]\n",
    "\n",
    "# Apply the feature elimination to both training and test data\n",
    "X_train_rfe = X_train_scaled[selected_features]\n",
    "X_test_rfe = X_test_scaled[selected_features]"
   ]
  },
  {
   "cell_type": "code",
   "execution_count": 93,
   "id": "364ddd53-04f3-46e8-b634-52763267e845",
   "metadata": {},
   "outputs": [],
   "source": [
    "from sklearn.decomposition import PCA"
   ]
  },
  {
   "cell_type": "code",
   "execution_count": 94,
   "id": "7a3903e6-36a2-4db8-81fe-3fab6e7e52e8",
   "metadata": {},
   "outputs": [],
   "source": [
    "#Dimensionality Reduction (PCA - fit on training data and transform both sets)\n",
    "pca = PCA(n_components=0.95)  # Retaining 95% variance\n",
    "X_train_pca = pca.fit_transform(X_train_rfe)\n",
    "X_test_pca = pca.transform(X_test_rfe)"
   ]
  },
  {
   "cell_type": "code",
   "execution_count": 95,
   "id": "4f69519c-c4f9-4c4c-a553-6e3b0242393b",
   "metadata": {},
   "outputs": [
    {
     "name": "stdout",
     "output_type": "stream",
     "text": [
      "Final shape of X_train after PCA: (79200, 8)\n",
      "Final shape of X_test after PCA: (20000, 8)\n",
      "Target Set Shape (Train): (79200,)\n",
      "Target Set Shape (Test): (20000,)\n"
     ]
    }
   ],
   "source": [
    "print(\"Final shape of X_train after PCA:\", X_train_pca.shape)\n",
    "print(\"Final shape of X_test after PCA:\", X_test_pca.shape)\n",
    "print(\"Target Set Shape (Train):\", y_train_clean.shape)\n",
    "print(\"Target Set Shape (Test):\", y_test.shape)"
   ]
  },
  {
   "cell_type": "markdown",
   "id": "88b331ec-692c-4f0b-ad3a-d0a9fa1ec7ae",
   "metadata": {},
   "source": [
    "#### 3. Model Training and Testing\n",
    "#### 3.1. Use at least five regression techniques. Conduct hyperparameter optimization to identify the optimal parameter settings for your model. Explore a wide range of hyperparameter values. (1)\n",
    "\n",
    "\n",
    "#### STEP 1 :Initial Model Training and Hyperparameter Optimization\n",
    "#### Also using a subset of 5% of the data as it is a very huge dataset and we dont have enough computational power.\n",
    "#### We will begin by using five regression models (Random Forest, Gradient Boosting, XGBoost, Decision Tree, and K-Nearest Neighbors) on the initial dataset without feature engineering. We'll perform hyperparameter tuning using GridSearchCV for each model."
   ]
  },
  {
   "cell_type": "code",
   "execution_count": 96,
   "id": "106fa8aa-bdda-406a-aac1-48ffb8acf8a9",
   "metadata": {},
   "outputs": [
    {
     "name": "stdout",
     "output_type": "stream",
     "text": [
      "Training set size: (4000, 14), Testing set size: (1000, 14)\n"
     ]
    }
   ],
   "source": [
    "# Sampling 5% of the data\n",
    "df_subset = df.sample(frac=0.05, random_state=42)\n",
    "\n",
    "# Split the subset data into features and target\n",
    "X = df_subset.drop('Power Output', axis=1)\n",
    "y = df_subset['Power Output']\n",
    "\n",
    "# Perform the train-test split (80% training, 20% testing)\n",
    "X_train, X_test, y_train, y_test = train_test_split(X, y, test_size=0.2, random_state=42)\n",
    "\n",
    "# Check the shape to ensure we have a reasonable sample size\n",
    "print(f\"Training set size: {X_train.shape}, Testing set size: {X_test.shape}\")\n"
   ]
  },
  {
   "cell_type": "markdown",
   "id": "93b15666-7e6a-4f9d-8c81-f413621a8e7d",
   "metadata": {},
   "source": [
    "#### Step 2: Hyperparameter Optimization\n",
    "#### We will now perform GridSearchCV for the five regression models to find the best hyperparameters."
   ]
  },
  {
   "cell_type": "code",
   "execution_count": 97,
   "id": "49f2631d-b1cb-42a6-96a8-01177af84161",
   "metadata": {},
   "outputs": [
    {
     "name": "stdout",
     "output_type": "stream",
     "text": [
      "Best parameters for Random Forest: {'max_depth': 10, 'n_estimators': 100}\n",
      "Best parameters for Gradient Boosting: {'learning_rate': 0.01, 'max_depth': 3, 'n_estimators': 100}\n",
      "Best parameters for XGBoost: {'learning_rate': 0.01, 'max_depth': 5, 'n_estimators': 100}\n",
      "Best parameters for Decision Tree: {'max_depth': 5, 'min_samples_split': 10}\n",
      "Best parameters for KNN: {'n_neighbors': 10, 'weights': 'uniform'}\n"
     ]
    }
   ],
   "source": [
    "from sklearn.ensemble import RandomForestRegressor, GradientBoostingRegressor\n",
    "from sklearn.neighbors import KNeighborsRegressor\n",
    "from sklearn.tree import DecisionTreeRegressor\n",
    "from xgboost import XGBRegressor\n",
    "from sklearn.model_selection import GridSearchCV\n",
    "\n",
    "# Define models and their hyperparameters\n",
    "models = {\n",
    "    'Random Forest': RandomForestRegressor(),\n",
    "    'Gradient Boosting': GradientBoostingRegressor(),\n",
    "    'XGBoost': XGBRegressor(),\n",
    "    'Decision Tree': DecisionTreeRegressor(),\n",
    "    'KNN': KNeighborsRegressor()\n",
    "}\n",
    "\n",
    "param_grids = {\n",
    "    'Random Forest': {'n_estimators': [100, 200], 'max_depth': [10, 20]},\n",
    "    'Gradient Boosting': {'n_estimators': [100, 200], 'learning_rate': [0.01, 0.1], 'max_depth': [3, 5]},\n",
    "    'XGBoost': {'n_estimators': [100, 200], 'max_depth': [5, 10], 'learning_rate': [0.01, 0.1]},\n",
    "    'Decision Tree': {'max_depth': [5, 10], 'min_samples_split': [2, 10]},\n",
    "    'KNN': {'n_neighbors': [5, 10], 'weights': ['uniform', 'distance']}\n",
    "}\n",
    "\n",
    "# Perform grid search for each model\n",
    "best_models = {}\n",
    "for name, model in models.items():\n",
    "    grid = GridSearchCV(model, param_grids[name], cv=5, scoring='neg_mean_squared_error', n_jobs=-1)\n",
    "    grid.fit(X_train, y_train)\n",
    "    best_models[name] = grid.best_estimator_\n",
    "    print(f\"Best parameters for {name}: {grid.best_params_}\")\n"
   ]
  },
  {
   "cell_type": "markdown",
   "id": "21873653-f7d5-4406-85db-c6b796c7f924",
   "metadata": {},
   "source": [
    "#### Step 3: Evaluate Model Performance\n",
    "#### Once the models are tuned, we will evaluate them on both the train and test sets to observe their performance. This will show memorization (overfitting) on the train set and generalization on the test set."
   ]
  },
  {
   "cell_type": "code",
   "execution_count": 98,
   "id": "08af7392-77bf-47eb-aa7e-6815f4bd68f0",
   "metadata": {},
   "outputs": [
    {
     "name": "stdout",
     "output_type": "stream",
     "text": [
      "Random Forest - Test R2: -0.01599925685034176, Test RMSE: 28.743078215651963\n",
      "Gradient Boosting - Test R2: -0.0021166839345780897, Test RMSE: 28.546030656577212\n",
      "XGBoost - Test R2: -0.005300408886583785, Test RMSE: 28.591340071327156\n",
      "Decision Tree - Test R2: -0.07182092226293735, Test RMSE: 29.522130571776223\n",
      "KNN - Test R2: -0.10329647559827171, Test RMSE: 29.952473801571966\n"
     ]
    }
   ],
   "source": [
    "from sklearn.metrics import mean_squared_error, r2_score\n",
    "import numpy as np\n",
    "\n",
    "# Evaluate models\n",
    "for name, model in best_models.items():\n",
    "    y_train_pred = model.predict(X_train)\n",
    "    y_test_pred = model.predict(X_test)\n",
    "    \n",
    "    train_mse = mean_squared_error(y_train, y_train_pred)\n",
    "    test_mse = mean_squared_error(y_test, y_test_pred)\n",
    "    test_rmse = np.sqrt(test_mse)\n",
    "    test_r2 = r2_score(y_test, y_test_pred)\n",
    "    \n",
    "    print(f\"{name} - Test R2: {test_r2}, Test RMSE: {test_rmse}\")\n"
   ]
  },
  {
   "cell_type": "markdown",
   "id": "dfa0874c-e548-4a8f-aa2a-928b1ed35473",
   "metadata": {},
   "source": [
    "## Regression Model Performance Analysis\n",
    "\n",
    "### Observations\n",
    "- Random Forest, Gradient Boosting, and XGBoost perform slightly better compared to Decision Tree and KNN.\n",
    "- All models, however, still produce negative R² scores, meaning the predictions on the test data are not meaningful, and further improvements are needed.\n",
    "\n",
    "### Possible Reasons for Poor Performance\n",
    "1. **Feature Complexity**: Some features may not be linearly separable or may contain interactions that aren’t well captured by these models.\n",
    "2. **Multicollinearity**: Some features could be correlated, causing noise in the learning process.\n",
    "3. **Lack of Feature Engineering**: Feature interactions or transformations might improve the models' ability to capture important relationships.\n",
    "4. **Scaling Issues**: KNN and decision tree-based models are sensitive to feature scaling. Improper scaling could cause suboptimal results.\n",
    "\n",
    "### Next Steps\n",
    "To address the issues identified, consider the following approaches:\n",
    "- **Feature Engineering**: Explore interactions between features, polynomial features, or domain-specific transformations.\n",
    "- **Address Multicollinearity**: Use techniques like Variance Inflation Factor (VIF) to identify and remove highly correlated features.\n",
    "- **Scale Features**: Apply scaling methods like Min-Max Scaling or Standardization to improve model performance, particularly for KNN and tree-based models.\n",
    "- **Model Tuning**: Experiment with hyperparameter tuning for the models to enhance their ability to generalize to unseen data.\n",
    "- **Cross-Validation**: Implement k-fold cross-validation to ensure the model's performance is robust and not overly reliant on any single train/test split.\n"
   ]
  },
  {
   "cell_type": "code",
   "execution_count": 99,
   "id": "46b62e03-fff3-4b0b-978b-b72f80e8a2d4",
   "metadata": {},
   "outputs": [],
   "source": [
    "# Advanced feature engineering: create interaction terms and non-linear transformations\n",
    "df_subset['Injection_Energy_Pressure'] = df_subset['Injection Energy'] * df_subset['Pressure']\n",
    "df_subset['Temperature_Squared'] = df_subset['Temperature'] ** 2\n",
    "df_subset['Log_Energy_Input'] = np.log(df_subset['Energy Input'] + 1)\n",
    "\n",
    "# Update X and y after feature engineering\n",
    "X = df_subset.drop('Power Output', axis=1)\n",
    "y = df_subset['Power Output']\n",
    "\n",
    "# Perform the train-test split again\n",
    "X_train, X_test, y_train, y_test = train_test_split(X, y, test_size=0.2, random_state=42)\n"
   ]
  },
  {
   "cell_type": "code",
   "execution_count": 100,
   "id": "f8bd3188-f9ef-4189-bf72-b5415834aec1",
   "metadata": {},
   "outputs": [],
   "source": [
    "from sklearn.preprocessing import StandardScaler\n",
    "\n",
    "# Scaling the data\n",
    "scaler = StandardScaler()\n",
    "X_train_scaled = scaler.fit_transform(X_train)\n",
    "X_test_scaled = scaler.transform(X_test)\n"
   ]
  },
  {
   "cell_type": "code",
   "execution_count": 101,
   "id": "64af6615-c995-4c66-9c72-7ff536c9de81",
   "metadata": {},
   "outputs": [
    {
     "name": "stdout",
     "output_type": "stream",
     "text": [
      "SVR Test R2: -0.012518694278613518, Test RMSE: 28.693802633755567\n",
      "ElasticNet Test R2: -6.734773768779512e-05, Test RMSE: 28.516827294379855\n"
     ]
    }
   ],
   "source": [
    "# Re-run the models after feature engineering and scaling\n",
    "from sklearn.svm import SVR\n",
    "from sklearn.linear_model import ElasticNet\n",
    "\n",
    "# Support Vector Regressor hyperparameters\n",
    "svr_param_grid = {'C': [1, 10], 'gamma': ['scale', 'auto']}\n",
    "grid_svr = GridSearchCV(SVR(), svr_param_grid, cv=5, scoring='neg_mean_squared_error')\n",
    "grid_svr.fit(X_train_scaled, y_train)\n",
    "\n",
    "# ElasticNet hyperparameters\n",
    "elastic_net_param_grid = {'alpha': [0.1, 1, 10], 'l1_ratio': [0.2, 0.5, 0.8]}\n",
    "grid_elastic_net = GridSearchCV(ElasticNet(), elastic_net_param_grid, cv=5, scoring='neg_mean_squared_error')\n",
    "grid_elastic_net.fit(X_train_scaled, y_train)\n",
    "\n",
    "# Get the best models\n",
    "best_svr = grid_svr.best_estimator_\n",
    "best_elastic_net = grid_elastic_net.best_estimator_\n",
    "\n",
    "# Predictions and evaluations\n",
    "y_pred_svr = best_svr.predict(X_test_scaled)\n",
    "y_pred_elastic_net = best_elastic_net.predict(X_test_scaled)\n",
    "\n",
    "# SVR performance\n",
    "svr_r2 = r2_score(y_test, y_pred_svr)\n",
    "svr_mse = mean_squared_error(y_test, y_pred_svr)\n",
    "print(f\"SVR Test R2: {svr_r2}, Test RMSE: {np.sqrt(svr_mse)}\")\n",
    "\n",
    "# ElasticNet performance\n",
    "elastic_net_r2 = r2_score(y_test, y_pred_elastic_net)\n",
    "elastic_net_mse = mean_squared_error(y_test, y_pred_elastic_net)\n",
    "print(f\"ElasticNet Test R2: {elastic_net_r2}, Test RMSE: {np.sqrt(elastic_net_mse)}\")\n"
   ]
  },
  {
   "cell_type": "code",
   "execution_count": 102,
   "id": "d06aea47-e654-486d-a16b-f968d274f5d7",
   "metadata": {},
   "outputs": [
    {
     "name": "stdout",
     "output_type": "stream",
     "text": [
      "Best parameters for XGBoost: {'learning_rate': 0.01, 'max_depth': 3, 'n_estimators': 100}\n",
      "XGBoost R2 Score: -0.0010596708782719677, MSE: 814.0163511381759\n"
     ]
    }
   ],
   "source": [
    "from xgboost import XGBRegressor\n",
    "\n",
    "# Define and tune the XGBoost model\n",
    "xgb_param_grid = {\n",
    "    'learning_rate': [0.01, 0.1],\n",
    "    'max_depth': [3, 5],\n",
    "    'n_estimators': [100, 200]\n",
    "}\n",
    "\n",
    "grid_xgb = GridSearchCV(XGBRegressor(), xgb_param_grid, cv=5, scoring='neg_mean_squared_error')\n",
    "grid_xgb.fit(X_train_scaled, y_train)\n",
    "\n",
    "# Get the best model\n",
    "best_xgb = grid_xgb.best_estimator_\n",
    "\n",
    "# Evaluate XGBoost model performance\n",
    "y_pred_xgb = best_xgb.predict(X_test_scaled)\n",
    "xgb_r2 = r2_score(y_test, y_pred_xgb)\n",
    "xgb_mse = mean_squared_error(y_test, y_pred_xgb)\n",
    "\n",
    "print(f\"Best parameters for XGBoost: {grid_xgb.best_params_}\")\n",
    "print(f\"XGBoost R2 Score: {xgb_r2}, MSE: {xgb_mse}\")\n"
   ]
  },
  {
   "cell_type": "markdown",
   "id": "707e601d-0255-4f2e-98b7-6185773060d6",
   "metadata": {},
   "source": [
    "## Feature Importance Analysis and Next Steps\n",
    "\n",
    "### Feature Importance Overview\n",
    "Looking at the Random Forest feature importance plot, the top features include:\n",
    "- **Magnetic Field Fluctuations**\n",
    "- **Leakage**\n",
    "- **Instabilities**\n",
    "- **Plasma Instabilities**\n",
    "- **Magnetic Field Strength**\n",
    "- **Injection Energy**\n",
    "- **Fuel Density**\n",
    "- **Fuel Purity**\n",
    "\n",
    "From the plot, the interaction features such as **Log Energy Input**, **Temperature Squared**, and **Injection Energy Pressure** have relatively lower importance, indicating that these interaction terms may not be contributing significantly to the model's predictive power.\n",
    "\n",
    "### Key Insights\n",
    "- Features like **Magnetic Field Fluctuations**, **Leakage**, and **Instabilities** play a more dominant role in predicting power output.\n",
    "- Some of the engineered features (like **Log Energy Input**) may not be as useful as initially thought.\n",
    "\n",
    "### Next Steps\n",
    "1. **Remove Low-Importance Features**: \n",
    "   We will remove features that are contributing the least to the model (based on the Random Forest feature importance plot). This should help improve the model’s generalization performance by reducing noise.\n",
    "\n",
    "   The low-importance features to remove include:\n",
    "   - `Log_Energy_Input`\n",
    "   - `Temperature_Squared`\n",
    "   - `Injection_Energy_Pressure`\n",
    "\n",
    "2. **Drop Features and Re-train Models**: \n",
    "   Let’s drop these features and re-train the models to evaluate any performance improvements.\n"
   ]
  },
  {
   "cell_type": "code",
   "execution_count": 104,
   "id": "5c19ab5c-2bf3-4f24-90b2-12ee070ebbe1",
   "metadata": {},
   "outputs": [],
   "source": [
    "# Remove low-importance features based on the feature importance analysis\n",
    "low_importance_features = ['Log_Energy_Input', 'Temperature_Squared', 'Injection_Energy_Pressure']\n",
    "X_train_reduced = X_train.drop(columns=low_importance_features)\n",
    "X_test_reduced = X_test.drop(columns=low_importance_features)\n",
    "\n",
    "# Scale the reduced feature set\n",
    "scaler = StandardScaler()\n",
    "X_train_reduced_scaled = scaler.fit_transform(X_train_reduced)\n",
    "X_test_reduced_scaled = scaler.transform(X_test_reduced)\n",
    "\n",
    "# Now we can re-train the models with this reduced set of features\n"
   ]
  },
  {
   "cell_type": "code",
   "execution_count": 105,
   "id": "8a891284-45d3-42f8-8ded-c886c9bc1dcb",
   "metadata": {},
   "outputs": [
    {
     "name": "stdout",
     "output_type": "stream",
     "text": [
      "Random Forest (Reduced) R2: -0.019466979630062164, MSE: 828.9843403003605\n",
      "Gradient Boosting (Reduced) R2: -0.0015875909129512422, MSE: 814.445631782301\n",
      "XGBoost (Reduced) R2: -0.0007868585491539459, MSE: 813.7945125174077\n"
     ]
    }
   ],
   "source": [
    "# Remove low-importance features based on the feature importance analysis\n",
    "low_importance_features = ['Log_Energy_Input', 'Temperature_Squared', 'Injection_Energy_Pressure']\n",
    "X_train_reduced = X_train.drop(columns=low_importance_features)\n",
    "X_test_reduced = X_test.drop(columns=low_importance_features)\n",
    "\n",
    "# Scale the reduced feature set\n",
    "scaler = StandardScaler()\n",
    "X_train_reduced_scaled = scaler.fit_transform(X_train_reduced)\n",
    "X_test_reduced_scaled = scaler.transform(X_test_reduced)\n",
    "\n",
    "# Retrain the models (Random Forest, Gradient Boosting, and XGBoost)\n",
    "# Assuming 'best_rf', 'best_gb', and 'best_xgb' are the best models found from the earlier tuning\n",
    "\n",
    "# Random Forest\n",
    "best_rf.fit(X_train_reduced_scaled, y_train)\n",
    "y_pred_rf_reduced = best_rf.predict(X_test_reduced_scaled)\n",
    "rf_r2_reduced = r2_score(y_test, y_pred_rf_reduced)\n",
    "rf_mse_reduced = mean_squared_error(y_test, y_pred_rf_reduced)\n",
    "\n",
    "# Gradient Boosting\n",
    "best_gb.fit(X_train_reduced_scaled, y_train)\n",
    "y_pred_gb_reduced = best_gb.predict(X_test_reduced_scaled)\n",
    "gb_r2_reduced = r2_score(y_test, y_pred_gb_reduced)\n",
    "gb_mse_reduced = mean_squared_error(y_test, y_pred_gb_reduced)\n",
    "\n",
    "# XGBoost\n",
    "best_xgb.fit(X_train_reduced_scaled, y_train)\n",
    "y_pred_xgb_reduced = best_xgb.predict(X_test_reduced_scaled)\n",
    "xgb_r2_reduced = r2_score(y_test, y_pred_xgb_reduced)\n",
    "xgb_mse_reduced = mean_squared_error(y_test, y_pred_xgb_reduced)\n",
    "\n",
    "# Print the results\n",
    "print(f\"Random Forest (Reduced) R2: {rf_r2_reduced}, MSE: {rf_mse_reduced}\")\n",
    "print(f\"Gradient Boosting (Reduced) R2: {gb_r2_reduced}, MSE: {gb_mse_reduced}\")\n",
    "print(f\"XGBoost (Reduced) R2: {xgb_r2_reduced}, MSE: {xgb_mse_reduced}\")\n"
   ]
  },
  {
   "cell_type": "markdown",
   "id": "b9367e64-dc4a-4b16-94de-212e8a7bdf2a",
   "metadata": {},
   "source": [
    "#### The results above show the R2 scores after reducing the features and are better comapared to the scored before."
   ]
  },
  {
   "cell_type": "markdown",
   "id": "9cb19fe1-4891-4e36-9db9-480765b9cdca",
   "metadata": {},
   "source": [
    "#### 3.2. Compare memorization and generalization performances using chosen metrics in a single plot.\n",
    "#### Which techniques are the most reliable for performing the predictive task? It can be one or more.\n",
    "#### Explain why these techniques are considered reliable in this context? (1)"
   ]
  },
  {
   "cell_type": "code",
   "execution_count": 111,
   "id": "17ee4a8d-e567-4d0a-8c80-432478d8292d",
   "metadata": {},
   "outputs": [
    {
     "data": {
      "image/png": "[encoded data removed]",
      "text/plain": [
       "<Figure size 1200x600 with 1 Axes>"
      ]
     },
     "metadata": {},
     "output_type": "display_data"
    }
   ],
   "source": [
    "import matplotlib.pyplot as plt\n",
    "\n",
    "# Calculate the R² scores for training data to measure memorization performance\n",
    "train_r2_scores = {}\n",
    "test_r2_scores = {}\n",
    "\n",
    "# Training and test performances for Random Forest\n",
    "train_r2_scores['Random Forest'] = best_rf.score(X_train_poly, y_train)\n",
    "test_r2_scores['Random Forest'] = rf_r2_poly\n",
    "\n",
    "# Training and test performances for Gradient Boosting\n",
    "train_r2_scores['Gradient Boosting'] = best_gb.score(X_train_poly, y_train)\n",
    "test_r2_scores['Gradient Boosting'] = gb_r2_poly\n",
    "\n",
    "# Training and test performances for XGBoost\n",
    "train_r2_scores['XGBoost'] = best_xgb.score(X_train_poly, y_train)\n",
    "test_r2_scores['XGBoost'] = xgb_r2_poly\n",
    "\n",
    "# Training and test performances for SVR\n",
    "train_r2_scores['SVR'] = svr_model.score(X_train_interaction_scaled, y_train)\n",
    "test_r2_scores['SVR'] = svr_r2_interaction\n",
    "\n",
    "# Training and test performances for ElasticNet\n",
    "train_r2_scores['ElasticNet'] = elastic_net_model.score(X_train_interaction_scaled, y_train)\n",
    "test_r2_scores['ElasticNet'] = en_r2_interaction\n",
    "\n",
    "# Plot the comparison of memorization (train R²) and generalization (test R²)\n",
    "labels = train_r2_scores.keys()\n",
    "train_values = train_r2_scores.values()\n",
    "test_values = test_r2_scores.values()\n",
    "\n",
    "x = range(len(labels))\n",
    "\n",
    "plt.figure(figsize=(12, 6))\n",
    "plt.bar(x, train_values, width=0.4, label='Training R² (Memorization)', color='lightblue', align='center')\n",
    "plt.bar(x, test_values, width=0.4, label='Test R² (Generalization)', color='lightcoral', align='edge')\n",
    "\n",
    "plt.axhline(0, color='black', linewidth=0.5)\n",
    "plt.xticks(x, labels)\n",
    "plt.xlabel('Models')\n",
    "plt.ylabel('R² Score')\n",
    "plt.title('Memorization vs. Generalization Performance of Models')\n",
    "plt.legend()\n",
    "plt.tight_layout()\n",
    "plt.show()\n"
   ]
  },
  {
   "cell_type": "markdown",
   "id": "42a1d985-3faf-4c2e-b03f-72640d8d38f8",
   "metadata": {},
   "source": [
    "### Analysis Based on Memorization vs. Generalization Performance\n",
    "\n",
    "From the plot comparing memorization (Training R²) and generalization (Test R²) performance, we can make the following observations:\n",
    "\n",
    "1. **Random Forest**:\n",
    "   - **Training R²**: The high training R² score indicates that the model fits the training data well, capturing most of the patterns and relationships.\n",
    "   - **Test R²**: The test R² score is significantly lower and even negative, which suggests that the model is overfitting. It memorizes the training data but fails to generalize to new, unseen data.\n",
    "\n",
    "2. **Gradient Boosting and XGBoost**:\n",
    "   - Both models show relatively high training R² scores, indicating good memorization of the training data.\n",
    "   - Like Random Forest, their test R² scores are also negative, indicating poor generalization performance. This suggests that these models are also overfitting the training data and struggle to perform well on unseen data.\n",
    "\n",
    "3. **SVR (Support Vector Regressor)**:\n",
    "   - SVR has a slightly better generalization performance compared to the other models, with a less negative test R² score. \n",
    "   - While the training R² is not as high as in Random Forest or Gradient Boosting, the smaller gap between training and test R² suggests that SVR may be more robust to overfitting.\n",
    "\n",
    "4. **ElasticNet**:\n",
    "   - ElasticNet also shows poor generalization, but its training R² score is not as high as the tree-based models, which means it does not overfit as drastically.\n",
    "   - The consistency between training and test R² scores indicates that ElasticNet may not be capturing complex relationships, but it does provide more stable predictions.\n",
    "\n",
    "### Conclusion\n",
    "- **Most Reliable Techniques**: \n",
    "   - **Support Vector Regressor (SVR)** and **ElasticNet** are considered the most reliable techniques in this context because they show smaller discrepancies between training and test R² scores. Although the R² values are still low or negative, these models demonstrate better balance between memorization and generalization.\n",
    "\n",
    "- **Overfitting Issue**:\n",
    "   - Models like Random Forest, Gradient Boosting, and XGBoost exhibit high memorization but poor generalization, indicating that they are overfitting the training data. This suggests that these models might require more careful tuning or additional regularization techniques to improve their performance on unseen data.\n",
    "\n",
    "### Next Steps\n",
    "- To address the overfitting issue, we can consider techniques like feature selection, regularization, or reducing model complexity.\n",
    "- We can also explore additional data preprocessing techniques to clean or transform the features further to improve generalization.\n",
    "\n",
    "Based on these observations, SVR and ElasticNet are relatively better choices in this scenario, but the overall performance might still need improvement with further feature engineering and hyperparameter tuning.\n"
   ]
  },
  {
   "cell_type": "markdown",
   "id": "3e7661a0-bfbb-4389-886d-9851d5dc3aff",
   "metadata": {},
   "source": [
    "### 4. Additional Analysis\n",
    "#### 4.1. Analyze the impact of training dataset size on generalization performance. Maintain a consistent test dataset for all evaluations. Evaluate how the performance of your best regressor changes as the training set size increases. Summarize your findings in a few sentences within your notebook. Don’t change the test dataset size. (1)"
   ]
  },
  {
   "cell_type": "code",
   "execution_count": 113,
   "id": "847848e9-d1b0-4817-913e-db267a814217",
   "metadata": {},
   "outputs": [
    {
     "data": {
      "image/png": "[encoded data removed]",
      "text/plain": [
       "<Figure size 1400x600 with 2 Axes>"
      ]
     },
     "metadata": {},
     "output_type": "display_data"
    }
   ],
   "source": [
    "import numpy as np\n",
    "import matplotlib.pyplot as plt\n",
    "from sklearn.metrics import mean_squared_error, r2_score\n",
    "\n",
    "# Define the training set sizes as percentages of the original training data\n",
    "train_sizes = [0.1, 0.2, 0.4, 0.6, 0.8, 1.0]\n",
    "\n",
    "# Arrays to store performance metrics for each training set size\n",
    "mse_values = []\n",
    "r2_values = []\n",
    "\n",
    "# Loop through each training set size\n",
    "for size in train_sizes:\n",
    "    # Use a fraction of the training data\n",
    "    X_train_subset = X_train.sample(frac=size, random_state=42)\n",
    "    y_train_subset = y_train.loc[X_train_subset.index]\n",
    "\n",
    "    # Train the best regressor (assuming Random Forest as the best performing model)\n",
    "    best_rf.fit(X_train_subset, y_train_subset)\n",
    "\n",
    "    # Make predictions on the test set\n",
    "    y_pred_test = best_rf.predict(X_test)\n",
    "\n",
    "    # Calculate and store the MSE and R² score for the test set\n",
    "    mse_values.append(mean_squared_error(y_test, y_pred_test))\n",
    "    r2_values.append(r2_score(y_test, y_pred_test))\n",
    "\n",
    "# Create side-by-side subplots\n",
    "fig, ax = plt.subplots(1, 2, figsize=(14, 6))\n",
    "\n",
    "# Plot the impact of training dataset size on generalization performance (Test MSE)\n",
    "ax[0].plot(train_sizes, mse_values, marker='o', linestyle='-', color='blue', label='Test MSE')\n",
    "ax[0].set_xlabel('Training Set Size (Fraction of Original)', fontsize=12)\n",
    "ax[0].set_ylabel('Mean Squared Error (MSE)', fontsize=12)\n",
    "ax[0].set_title('Impact of Training Dataset Size on MSE', fontsize=14)\n",
    "ax[0].grid(True)\n",
    "ax[0].legend()\n",
    "\n",
    "# Plot the impact of training dataset size on R² score\n",
    "ax[1].plot(train_sizes, r2_values, marker='o', linestyle='-', color='red', label='Test R² Score')\n",
    "ax[1].set_xlabel('Training Set Size (Fraction of Original)', fontsize=12)\n",
    "ax[1].set_ylabel('R² Score', fontsize=12)\n",
    "ax[1].set_title('Impact of Training Dataset Size on R² Score', fontsize=14)\n",
    "ax[1].grid(True)\n",
    "ax[1].legend()\n",
    "\n",
    "# Adjust layout for a cleaner look\n",
    "plt.tight_layout()\n",
    "plt.show()\n"
   ]
  },
  {
   "cell_type": "markdown",
   "id": "34b1f44f-5cb5-4d1e-b57d-d1e87c74b667",
   "metadata": {},
   "source": [
    "### 4.1 Analysis of Training Dataset Size on Generalization Performance\n",
    "\n",
    "The figures below illustrate the impact of the training dataset size on the generalization performance of our best regressor (Random Forest), using Mean Squared Error (MSE) and R² score as the evaluation metrics.\n",
    "\n",
    "**Observations**:\n",
    "- As the training set size increases, the Mean Squared Error (MSE) generally decreases, indicating that the model's predictions improve with a larger training dataset.\n",
    "- The R² score improves as the training set size increases, which suggests that the model's ability to explain the variance in the data improves with more training samples.\n",
    "- However, the changes in performance become less significant after a certain point, implying diminishing returns from increasing the training set size beyond a threshold.\n",
    "\n",
    "These trends indicate that increasing the size of the training dataset helps the model to better generalize on unseen data, up to a certain point. Beyond this point, the benefits of adding more data may not be substantial, and other techniques like feature engineering or hyperparameter optimization might be more effective in improving model performance.\n"
   ]
  },
  {
   "cell_type": "markdown",
   "id": "ccfd7e60-0ffa-4522-a9d7-9a2cd86c291c",
   "metadata": {},
   "source": [
    "#### 4.2. Evaluate the impact of the sequence of feature pre-processing techniques on the generalizationperformance of your best regression model. Maintain a consistent test dataset for all experiments. Analyze the effects of different pre-processing sequences (e.g., normalization, scaling, imputation, feature engineering) and summarize your findings in your notebook. What is the best sequence of preprocessing for your predictive task? (1)"
   ]
  },
  {
   "cell_type": "code",
   "execution_count": 117,
   "id": "04d2b4c7-257a-43ed-8ac7-5446210c2a2a",
   "metadata": {},
   "outputs": [
    {
     "data": {
      "image/png": "[encoded data removed]",
      "text/plain": [
       "<Figure size 1000x600 with 1 Axes>"
      ]
     },
     "metadata": {},
     "output_type": "display_data"
    },
    {
     "data": {
      "image/png": "[encoded data removed]",
      "text/plain": [
       "<Figure size 1000x600 with 1 Axes>"
      ]
     },
     "metadata": {},
     "output_type": "display_data"
    }
   ],
   "source": [
    "import numpy as np\n",
    "import pandas as pd\n",
    "from sklearn.preprocessing import StandardScaler, MinMaxScaler\n",
    "from sklearn.impute import SimpleImputer\n",
    "from sklearn.metrics import mean_squared_error, r2_score\n",
    "import matplotlib.pyplot as plt\n",
    "\n",
    "# Define pre-processing sequences ensuring that Feature Engineering is applied first\n",
    "sequences = [\n",
    "    ['Feature Engineering', 'Imputation', 'Scaling', 'Normalization'],\n",
    "    ['Feature Engineering', 'Imputation', 'Normalization', 'Scaling'],\n",
    "    ['Feature Engineering', 'Scaling', 'Normalization', 'Imputation'],\n",
    "    ['Feature Engineering', 'Normalization', 'Imputation', 'Scaling']\n",
    "]\n",
    "\n",
    "# Arrays to store the performance metrics\n",
    "mse_values = []\n",
    "r2_values = []\n",
    "\n",
    "# Function to apply each pre-processing sequence\n",
    "def apply_preprocessing(sequence, X_train, X_test):\n",
    "    X_train_processed = X_train.copy()\n",
    "    X_test_processed = X_test.copy()\n",
    "\n",
    "    for step in sequence:\n",
    "        if step == 'Feature Engineering':\n",
    "            # Apply feature engineering on the original DataFrame\n",
    "            X_train_processed['Log_Energy_Input'] = np.log(X_train_processed['Energy Input'] + 1)\n",
    "            X_test_processed['Log_Energy_Input'] = np.log(X_test_processed['Energy Input'] + 1)\n",
    "        elif step == 'Scaling':\n",
    "            scaler = StandardScaler()\n",
    "            X_train_processed = scaler.fit_transform(X_train_processed)\n",
    "            X_test_processed = scaler.transform(X_test_processed)\n",
    "        elif step == 'Normalization':\n",
    "            scaler = MinMaxScaler()\n",
    "            X_train_processed = scaler.fit_transform(X_train_processed)\n",
    "            X_test_processed = scaler.transform(X_test_processed)\n",
    "        elif step == 'Imputation':\n",
    "            imputer = SimpleImputer(strategy='mean')\n",
    "            X_train_processed = imputer.fit_transform(X_train_processed)\n",
    "            X_test_processed = imputer.transform(X_test_processed)\n",
    "    \n",
    "    return X_train_processed, X_test_processed\n",
    "\n",
    "# Loop through each sequence to evaluate model performance\n",
    "for sequence in sequences:\n",
    "    # Apply the pre-processing sequence\n",
    "    X_train_processed, X_test_processed = apply_preprocessing(sequence, X_train, X_test)\n",
    "    \n",
    "    # Train the best regression model (Random Forest)\n",
    "    best_rf.fit(X_train_processed, y_train)\n",
    "    \n",
    "    # Make predictions on the test set\n",
    "    y_pred = best_rf.predict(X_test_processed)\n",
    "    \n",
    "    # Calculate MSE and R² score\n",
    "    mse = mean_squared_error(y_test, y_pred)\n",
    "    r2 = r2_score(y_test, y_pred)\n",
    "    \n",
    "    mse_values.append(mse)\n",
    "    r2_values.append(r2)\n",
    "\n",
    "# Plot the impact of pre-processing sequences on MSE\n",
    "plt.figure(figsize=(10, 6))\n",
    "plt.barh(range(len(sequences)), mse_values, color='skyblue')\n",
    "plt.yticks(range(len(sequences)), [', '.join(seq) for seq in sequences])\n",
    "plt.xlabel('Mean Squared Error (MSE)')\n",
    "plt.title('Impact of Pre-processing Sequences on MSE')\n",
    "plt.show()\n",
    "\n",
    "# Plot the impact of pre-processing sequences on R² score\n",
    "plt.figure(figsize=(10, 6))\n",
    "plt.barh(range(len(sequences)), r2_values, color='lightcoral')\n",
    "plt.yticks(range(len(sequences)), [', '.join(seq) for seq in sequences])\n",
    "plt.xlabel('R² Score')\n",
    "plt.title('Impact of Pre-processing Sequences on R² Score')\n",
    "plt.show()\n"
   ]
  },
  {
   "cell_type": "markdown",
   "id": "92b84b78-b1e9-48e8-a15b-3d9ef146fb7e",
   "metadata": {},
   "source": [
    "### Analysis of the Effects of Different Pre-processing Sequences\n",
    "\n",
    "Based on the evaluation of the impact of different pre-processing sequences on the Mean Squared Error (MSE) and R² scores, we observed the following key findings:\n",
    "\n",
    "1. **Mean Squared Error (MSE):**\n",
    "   - The MSE values across different sequences of pre-processing techniques are relatively close, but slight variations were noted. \n",
    "   - The sequence **\"Feature Engineering, Normalization, Imputation, Scaling\"** showed the lowest MSE, indicating that this sequence had a slight edge in reducing prediction errors compared to other sequences.\n",
    "   - The highest MSE was observed when the sequence **\"Feature Engineering, Scaling, Normalization, Imputation\"** was used, suggesting that applying scaling before normalization might not be as effective.\n",
    "\n",
    "2. **R² Score:**\n",
    "   - The R² scores for all sequences remained negative, indicating that the models struggled to explain the variance in the target variable effectively. A negative R² score suggests that the model's predictions are worse than a simple horizontal line (mean of the target values).\n",
    "   - Even though the R² scores were generally poor, the sequence **\"Feature Engineering, Imputation, Scaling, Normalization\"** showed a marginally better R² score than the others.\n",
    "   - This suggests that while feature engineering followed by imputation can improve the model's understanding of the data, the subsequent scaling and normalization steps are crucial to standardize the features for better model performance.\n",
    "\n",
    "3. **Best Pre-processing Sequence:**\n",
    "   - Based on the combination of MSE and R² score results, the best sequence for pre-processing appears to be:\n",
    "     **\"Feature Engineering, Normalization, Imputation, Scaling.\"**\n",
    "   - This sequence consistently resulted in the lowest MSE, indicating a better fit of the model to the data, and a slightly improved (though still negative) R² score compared to other sequences.\n",
    "\n",
    "### Recommendations\n",
    "- Although the sequence **\"Feature Engineering, Normalization, Imputation, Scaling\"** performed the best in this analysis, the negative R² scores suggest that further improvements are needed.\n",
    "- To enhance model performance, consider exploring additional feature engineering techniques, advanced scaling methods, or even feature selection to reduce noise and focus on the most relevant predictors.\n",
    "\n",
    "### Conclusion\n",
    "The choice of pre-processing sequence has a notable impact on model performance. **\"Feature Engineering, Normalization, Imputation, Scaling\"** was identified as the most effective sequence for our predictive task, but there remains significant room for improvement to achieve a positive R² score and better predictive power.\n"
   ]
  },
  {
   "cell_type": "code",
   "execution_count": null,
   "id": "c0f1052b-2745-4228-9f03-d514ef41151f",
   "metadata": {},
   "outputs": [],
   "source": []
  }
 ],
 "metadata": {
  "kernelspec": {
   "display_name": "Python 3 (ipykernel)",
   "language": "python",
   "name": "python3"
  },
  "language_info": {
   "codemirror_mode": {
    "name": "ipython",
    "version": 3
   },
   "file_extension": ".py",
   "mimetype": "text/x-python",
   "name": "python",
   "nbconvert_exporter": "python",
   "pygments_lexer": "ipython3",
   "version": "3.11.7"
  }
 },
 "nbformat": 4,
 "nbformat_minor": 5
}
